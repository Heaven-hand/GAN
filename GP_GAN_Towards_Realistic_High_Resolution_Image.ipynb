{
  "nbformat": 4,
  "nbformat_minor": 0,
  "metadata": {
    "colab": {
      "name": "GP-GAN: Towards Realistic High-Resolution Image.ipynb",
      "provenance": [],
      "authorship_tag": "ABX9TyPqrkhKuZ2e4RxA1L2nurbX",
      "include_colab_link": true
    },
    "kernelspec": {
      "name": "python3",
      "display_name": "Python 3"
    },
    "language_info": {
      "name": "python"
    },
    "accelerator": "GPU"
  },
  "cells": [
    {
      "cell_type": "markdown",
      "metadata": {
        "id": "view-in-github",
        "colab_type": "text"
      },
      "source": [
        "<a href=\"https://colab.research.google.com/github/Heaven-hand/GAN/blob/main/GP_GAN_Towards_Realistic_High_Resolution_Image.ipynb\" target=\"_parent\"><img src=\"https://colab.research.google.com/assets/colab-badge.svg\" alt=\"Open In Colab\"/></a>"
      ]
    },
    {
      "cell_type": "code",
      "metadata": {
        "colab": {
          "base_uri": "https://localhost:8080/"
        },
        "id": "mkiL3MBAHj1-",
        "outputId": "51085f14-ff4f-494b-a58f-62d968460701"
      },
      "source": [
        "!git clone https://github.com/wuhuikai/GP-GAN.git\n",
        "!cd GP-GAN"
      ],
      "execution_count": 1,
      "outputs": [
        {
          "output_type": "stream",
          "name": "stdout",
          "text": [
            "Cloning into 'GP-GAN'...\n",
            "remote: Enumerating objects: 756, done.\u001b[K\n",
            "remote: Counting objects: 100% (106/106), done.\u001b[K\n",
            "remote: Compressing objects: 100% (70/70), done.\u001b[K\n",
            "remote: Total 756 (delta 50), reused 72 (delta 32), pack-reused 650\u001b[K\n",
            "Receiving objects: 100% (756/756), 18.46 MiB | 18.32 MiB/s, done.\n",
            "Resolving deltas: 100% (105/105), done.\n"
          ]
        }
      ]
    },
    {
      "cell_type": "code",
      "metadata": {
        "colab": {
          "base_uri": "https://localhost:8080/"
        },
        "id": "mVRdWw-FImde",
        "outputId": "e8bac8cc-bfe4-4bb5-9bf8-6cae3c6a9f83"
      },
      "source": [
        "cd GP-GAN/"
      ],
      "execution_count": 5,
      "outputs": [
        {
          "output_type": "stream",
          "name": "stdout",
          "text": [
            "/content/GP-GAN\n"
          ]
        }
      ]
    },
    {
      "cell_type": "code",
      "metadata": {
        "colab": {
          "base_uri": "https://localhost:8080/"
        },
        "id": "-pEBk5uTIcMJ",
        "outputId": "6619569f-b548-4633-a8e8-acf99e766f18"
      },
      "source": [
        "!pip install -r requirements/test/requirements.txt"
      ],
      "execution_count": 6,
      "outputs": [
        {
          "output_type": "stream",
          "name": "stdout",
          "text": [
            "Collecting chainer==6.3.0\n",
            "  Downloading chainer-6.3.0.tar.gz (874 kB)\n",
            "\u001b[?25l\r\u001b[K     |▍                               | 10 kB 26.2 MB/s eta 0:00:01\r\u001b[K     |▊                               | 20 kB 30.8 MB/s eta 0:00:01\r\u001b[K     |█▏                              | 30 kB 19.9 MB/s eta 0:00:01\r\u001b[K     |█▌                              | 40 kB 16.0 MB/s eta 0:00:01\r\u001b[K     |█▉                              | 51 kB 14.0 MB/s eta 0:00:01\r\u001b[K     |██▎                             | 61 kB 12.6 MB/s eta 0:00:01\r\u001b[K     |██▋                             | 71 kB 12.0 MB/s eta 0:00:01\r\u001b[K     |███                             | 81 kB 13.2 MB/s eta 0:00:01\r\u001b[K     |███▍                            | 92 kB 13.6 MB/s eta 0:00:01\r\u001b[K     |███▊                            | 102 kB 11.0 MB/s eta 0:00:01\r\u001b[K     |████▏                           | 112 kB 11.0 MB/s eta 0:00:01\r\u001b[K     |████▌                           | 122 kB 11.0 MB/s eta 0:00:01\r\u001b[K     |████▉                           | 133 kB 11.0 MB/s eta 0:00:01\r\u001b[K     |█████▎                          | 143 kB 11.0 MB/s eta 0:00:01\r\u001b[K     |█████▋                          | 153 kB 11.0 MB/s eta 0:00:01\r\u001b[K     |██████                          | 163 kB 11.0 MB/s eta 0:00:01\r\u001b[K     |██████▍                         | 174 kB 11.0 MB/s eta 0:00:01\r\u001b[K     |██████▊                         | 184 kB 11.0 MB/s eta 0:00:01\r\u001b[K     |███████▏                        | 194 kB 11.0 MB/s eta 0:00:01\r\u001b[K     |███████▌                        | 204 kB 11.0 MB/s eta 0:00:01\r\u001b[K     |███████▉                        | 215 kB 11.0 MB/s eta 0:00:01\r\u001b[K     |████████▎                       | 225 kB 11.0 MB/s eta 0:00:01\r\u001b[K     |████████▋                       | 235 kB 11.0 MB/s eta 0:00:01\r\u001b[K     |█████████                       | 245 kB 11.0 MB/s eta 0:00:01\r\u001b[K     |█████████▍                      | 256 kB 11.0 MB/s eta 0:00:01\r\u001b[K     |█████████▊                      | 266 kB 11.0 MB/s eta 0:00:01\r\u001b[K     |██████████▏                     | 276 kB 11.0 MB/s eta 0:00:01\r\u001b[K     |██████████▌                     | 286 kB 11.0 MB/s eta 0:00:01\r\u001b[K     |██████████▉                     | 296 kB 11.0 MB/s eta 0:00:01\r\u001b[K     |███████████▎                    | 307 kB 11.0 MB/s eta 0:00:01\r\u001b[K     |███████████▋                    | 317 kB 11.0 MB/s eta 0:00:01\r\u001b[K     |████████████                    | 327 kB 11.0 MB/s eta 0:00:01\r\u001b[K     |████████████▍                   | 337 kB 11.0 MB/s eta 0:00:01\r\u001b[K     |████████████▊                   | 348 kB 11.0 MB/s eta 0:00:01\r\u001b[K     |█████████████▏                  | 358 kB 11.0 MB/s eta 0:00:01\r\u001b[K     |█████████████▌                  | 368 kB 11.0 MB/s eta 0:00:01\r\u001b[K     |█████████████▉                  | 378 kB 11.0 MB/s eta 0:00:01\r\u001b[K     |██████████████▎                 | 389 kB 11.0 MB/s eta 0:00:01\r\u001b[K     |██████████████▋                 | 399 kB 11.0 MB/s eta 0:00:01\r\u001b[K     |███████████████                 | 409 kB 11.0 MB/s eta 0:00:01\r\u001b[K     |███████████████▍                | 419 kB 11.0 MB/s eta 0:00:01\r\u001b[K     |███████████████▊                | 430 kB 11.0 MB/s eta 0:00:01\r\u001b[K     |████████████████                | 440 kB 11.0 MB/s eta 0:00:01\r\u001b[K     |████████████████▌               | 450 kB 11.0 MB/s eta 0:00:01\r\u001b[K     |████████████████▉               | 460 kB 11.0 MB/s eta 0:00:01\r\u001b[K     |█████████████████▎              | 471 kB 11.0 MB/s eta 0:00:01\r\u001b[K     |█████████████████▋              | 481 kB 11.0 MB/s eta 0:00:01\r\u001b[K     |██████████████████              | 491 kB 11.0 MB/s eta 0:00:01\r\u001b[K     |██████████████████▍             | 501 kB 11.0 MB/s eta 0:00:01\r\u001b[K     |██████████████████▊             | 512 kB 11.0 MB/s eta 0:00:01\r\u001b[K     |███████████████████             | 522 kB 11.0 MB/s eta 0:00:01\r\u001b[K     |███████████████████▌            | 532 kB 11.0 MB/s eta 0:00:01\r\u001b[K     |███████████████████▉            | 542 kB 11.0 MB/s eta 0:00:01\r\u001b[K     |████████████████████▎           | 552 kB 11.0 MB/s eta 0:00:01\r\u001b[K     |████████████████████▋           | 563 kB 11.0 MB/s eta 0:00:01\r\u001b[K     |█████████████████████           | 573 kB 11.0 MB/s eta 0:00:01\r\u001b[K     |█████████████████████▍          | 583 kB 11.0 MB/s eta 0:00:01\r\u001b[K     |█████████████████████▊          | 593 kB 11.0 MB/s eta 0:00:01\r\u001b[K     |██████████████████████          | 604 kB 11.0 MB/s eta 0:00:01\r\u001b[K     |██████████████████████▌         | 614 kB 11.0 MB/s eta 0:00:01\r\u001b[K     |██████████████████████▉         | 624 kB 11.0 MB/s eta 0:00:01\r\u001b[K     |███████████████████████▎        | 634 kB 11.0 MB/s eta 0:00:01\r\u001b[K     |███████████████████████▋        | 645 kB 11.0 MB/s eta 0:00:01\r\u001b[K     |████████████████████████        | 655 kB 11.0 MB/s eta 0:00:01\r\u001b[K     |████████████████████████▍       | 665 kB 11.0 MB/s eta 0:00:01\r\u001b[K     |████████████████████████▊       | 675 kB 11.0 MB/s eta 0:00:01\r\u001b[K     |█████████████████████████       | 686 kB 11.0 MB/s eta 0:00:01\r\u001b[K     |█████████████████████████▌      | 696 kB 11.0 MB/s eta 0:00:01\r\u001b[K     |█████████████████████████▉      | 706 kB 11.0 MB/s eta 0:00:01\r\u001b[K     |██████████████████████████▎     | 716 kB 11.0 MB/s eta 0:00:01\r\u001b[K     |██████████████████████████▋     | 727 kB 11.0 MB/s eta 0:00:01\r\u001b[K     |███████████████████████████     | 737 kB 11.0 MB/s eta 0:00:01\r\u001b[K     |███████████████████████████▍    | 747 kB 11.0 MB/s eta 0:00:01\r\u001b[K     |███████████████████████████▊    | 757 kB 11.0 MB/s eta 0:00:01\r\u001b[K     |████████████████████████████    | 768 kB 11.0 MB/s eta 0:00:01\r\u001b[K     |████████████████████████████▌   | 778 kB 11.0 MB/s eta 0:00:01\r\u001b[K     |████████████████████████████▉   | 788 kB 11.0 MB/s eta 0:00:01\r\u001b[K     |█████████████████████████████▎  | 798 kB 11.0 MB/s eta 0:00:01\r\u001b[K     |█████████████████████████████▋  | 808 kB 11.0 MB/s eta 0:00:01\r\u001b[K     |██████████████████████████████  | 819 kB 11.0 MB/s eta 0:00:01\r\u001b[K     |██████████████████████████████▍ | 829 kB 11.0 MB/s eta 0:00:01\r\u001b[K     |██████████████████████████████▊ | 839 kB 11.0 MB/s eta 0:00:01\r\u001b[K     |███████████████████████████████ | 849 kB 11.0 MB/s eta 0:00:01\r\u001b[K     |███████████████████████████████▌| 860 kB 11.0 MB/s eta 0:00:01\r\u001b[K     |███████████████████████████████▉| 870 kB 11.0 MB/s eta 0:00:01\r\u001b[K     |████████████████████████████████| 874 kB 11.0 MB/s \n",
            "\u001b[?25hCollecting cupy==6.3.0\n",
            "  Downloading cupy-6.3.0.tar.gz (3.1 MB)\n",
            "\u001b[K     |████████████████████████████████| 3.1 MB 31.5 MB/s \n",
            "\u001b[?25hCollecting scikit-image==0.15.0\n",
            "  Downloading scikit_image-0.15.0-cp37-cp37m-manylinux1_x86_64.whl (26.3 MB)\n",
            "\u001b[K     |████████████████████████████████| 26.3 MB 18 kB/s \n",
            "\u001b[?25hRequirement already satisfied: setuptools in /usr/local/lib/python3.7/dist-packages (from chainer==6.3.0->-r requirements/test/requirements.txt (line 1)) (57.4.0)\n",
            "Collecting typing<=3.6.6\n",
            "  Downloading typing-3.6.6-py3-none-any.whl (25 kB)\n",
            "Collecting typing_extensions<=3.6.6\n",
            "  Downloading typing_extensions-3.6.6-py3-none-any.whl (16 kB)\n",
            "Requirement already satisfied: filelock in /usr/local/lib/python3.7/dist-packages (from chainer==6.3.0->-r requirements/test/requirements.txt (line 1)) (3.3.0)\n",
            "Requirement already satisfied: numpy>=1.9.0 in /usr/local/lib/python3.7/dist-packages (from chainer==6.3.0->-r requirements/test/requirements.txt (line 1)) (1.19.5)\n",
            "Collecting protobuf<3.8.0rc1,>=3.0.0\n",
            "  Downloading protobuf-3.7.1-cp37-cp37m-manylinux1_x86_64.whl (1.2 MB)\n",
            "\u001b[K     |████████████████████████████████| 1.2 MB 39.0 MB/s \n",
            "\u001b[?25hRequirement already satisfied: six>=1.9.0 in /usr/local/lib/python3.7/dist-packages (from chainer==6.3.0->-r requirements/test/requirements.txt (line 1)) (1.15.0)\n",
            "Requirement already satisfied: fastrlock>=0.3 in /usr/local/lib/python3.7/dist-packages (from cupy==6.3.0->-r requirements/test/requirements.txt (line 2)) (0.6)\n",
            "Requirement already satisfied: pillow>=4.3.0 in /usr/local/lib/python3.7/dist-packages (from scikit-image==0.15.0->-r requirements/test/requirements.txt (line 3)) (7.1.2)\n",
            "Requirement already satisfied: matplotlib!=3.0.0,>=2.0.0 in /usr/local/lib/python3.7/dist-packages (from scikit-image==0.15.0->-r requirements/test/requirements.txt (line 3)) (3.2.2)\n",
            "Requirement already satisfied: imageio>=2.0.1 in /usr/local/lib/python3.7/dist-packages (from scikit-image==0.15.0->-r requirements/test/requirements.txt (line 3)) (2.4.1)\n",
            "Requirement already satisfied: PyWavelets>=0.4.0 in /usr/local/lib/python3.7/dist-packages (from scikit-image==0.15.0->-r requirements/test/requirements.txt (line 3)) (1.1.1)\n",
            "Requirement already satisfied: scipy>=0.17.0 in /usr/local/lib/python3.7/dist-packages (from scikit-image==0.15.0->-r requirements/test/requirements.txt (line 3)) (1.4.1)\n",
            "Requirement already satisfied: networkx>=2.0 in /usr/local/lib/python3.7/dist-packages (from scikit-image==0.15.0->-r requirements/test/requirements.txt (line 3)) (2.6.3)\n",
            "Requirement already satisfied: python-dateutil>=2.1 in /usr/local/lib/python3.7/dist-packages (from matplotlib!=3.0.0,>=2.0.0->scikit-image==0.15.0->-r requirements/test/requirements.txt (line 3)) (2.8.2)\n",
            "Requirement already satisfied: pyparsing!=2.0.4,!=2.1.2,!=2.1.6,>=2.0.1 in /usr/local/lib/python3.7/dist-packages (from matplotlib!=3.0.0,>=2.0.0->scikit-image==0.15.0->-r requirements/test/requirements.txt (line 3)) (2.4.7)\n",
            "Requirement already satisfied: cycler>=0.10 in /usr/local/lib/python3.7/dist-packages (from matplotlib!=3.0.0,>=2.0.0->scikit-image==0.15.0->-r requirements/test/requirements.txt (line 3)) (0.10.0)\n",
            "Requirement already satisfied: kiwisolver>=1.0.1 in /usr/local/lib/python3.7/dist-packages (from matplotlib!=3.0.0,>=2.0.0->scikit-image==0.15.0->-r requirements/test/requirements.txt (line 3)) (1.3.2)\n",
            "Building wheels for collected packages: chainer, cupy\n",
            "  Building wheel for chainer (setup.py) ... \u001b[?25l\u001b[?25hdone\n",
            "  Created wheel for chainer: filename=chainer-6.3.0-py3-none-any.whl size=883599 sha256=74323010afe95b54f9183dcf668bd7e6358919c3b5c5316860d193d65a52d3cc\n",
            "  Stored in directory: /root/.cache/pip/wheels/be/67/97/6fa45a07187f9cf6968adc6c57c5af94c975e374534a56fff7\n",
            "  Building wheel for cupy (setup.py) ... \u001b[?25lerror\n",
            "\u001b[31m  ERROR: Failed building wheel for cupy\u001b[0m\n",
            "\u001b[?25h  Running setup.py clean for cupy\n",
            "Successfully built chainer\n",
            "Failed to build cupy\n",
            "Installing collected packages: typing-extensions, typing, protobuf, scikit-image, cupy, chainer\n",
            "  Attempting uninstall: typing-extensions\n",
            "    Found existing installation: typing-extensions 3.7.4.3\n",
            "    Uninstalling typing-extensions-3.7.4.3:\n",
            "      Successfully uninstalled typing-extensions-3.7.4.3\n",
            "  Attempting uninstall: protobuf\n",
            "    Found existing installation: protobuf 3.17.3\n",
            "    Uninstalling protobuf-3.17.3:\n",
            "      Successfully uninstalled protobuf-3.17.3\n",
            "  Attempting uninstall: scikit-image\n",
            "    Found existing installation: scikit-image 0.16.2\n",
            "    Uninstalling scikit-image-0.16.2:\n",
            "      Successfully uninstalled scikit-image-0.16.2\n",
            "    Running setup.py install for cupy ... \u001b[?25l\u001b[?25herror\n",
            "\u001b[31mERROR: Command errored out with exit status 1: /usr/bin/python3 -u -c 'import io, os, sys, setuptools, tokenize; sys.argv[0] = '\"'\"'/tmp/pip-install-eqnyspio/cupy_69feac8a7b97448085ec0fb612edd725/setup.py'\"'\"'; __file__='\"'\"'/tmp/pip-install-eqnyspio/cupy_69feac8a7b97448085ec0fb612edd725/setup.py'\"'\"';f = getattr(tokenize, '\"'\"'open'\"'\"', open)(__file__) if os.path.exists(__file__) else io.StringIO('\"'\"'from setuptools import setup; setup()'\"'\"');code = f.read().replace('\"'\"'\\r\\n'\"'\"', '\"'\"'\\n'\"'\"');f.close();exec(compile(code, __file__, '\"'\"'exec'\"'\"'))' install --record /tmp/pip-record-6tyf83nt/install-record.txt --single-version-externally-managed --compile --install-headers /usr/local/include/python3.7/cupy Check the logs for full command output.\u001b[0m\n"
          ]
        }
      ]
    },
    {
      "cell_type": "code",
      "metadata": {
        "colab": {
          "base_uri": "https://localhost:8080/"
        },
        "id": "GcO42hyEJvAa",
        "outputId": "8dcd8144-ecfc-42d0-9ba0-40c178711f84"
      },
      "source": [
        "!pip install chainer"
      ],
      "execution_count": 8,
      "outputs": [
        {
          "output_type": "stream",
          "name": "stdout",
          "text": [
            "Collecting chainer\n",
            "  Downloading chainer-7.8.0.tar.gz (1.0 MB)\n",
            "\u001b[?25l\r\u001b[K     |▎                               | 10 kB 23.4 MB/s eta 0:00:01\r\u001b[K     |▋                               | 20 kB 28.2 MB/s eta 0:00:01\r\u001b[K     |█                               | 30 kB 22.7 MB/s eta 0:00:01\r\u001b[K     |█▎                              | 40 kB 19.8 MB/s eta 0:00:01\r\u001b[K     |█▋                              | 51 kB 15.1 MB/s eta 0:00:01\r\u001b[K     |█▉                              | 61 kB 13.0 MB/s eta 0:00:01\r\u001b[K     |██▏                             | 71 kB 12.6 MB/s eta 0:00:01\r\u001b[K     |██▌                             | 81 kB 13.5 MB/s eta 0:00:01\r\u001b[K     |██▉                             | 92 kB 12.3 MB/s eta 0:00:01\r\u001b[K     |███▏                            | 102 kB 11.2 MB/s eta 0:00:01\r\u001b[K     |███▌                            | 112 kB 11.2 MB/s eta 0:00:01\r\u001b[K     |███▊                            | 122 kB 11.2 MB/s eta 0:00:01\r\u001b[K     |████                            | 133 kB 11.2 MB/s eta 0:00:01\r\u001b[K     |████▍                           | 143 kB 11.2 MB/s eta 0:00:01\r\u001b[K     |████▊                           | 153 kB 11.2 MB/s eta 0:00:01\r\u001b[K     |█████                           | 163 kB 11.2 MB/s eta 0:00:01\r\u001b[K     |█████▍                          | 174 kB 11.2 MB/s eta 0:00:01\r\u001b[K     |█████▋                          | 184 kB 11.2 MB/s eta 0:00:01\r\u001b[K     |██████                          | 194 kB 11.2 MB/s eta 0:00:01\r\u001b[K     |██████▎                         | 204 kB 11.2 MB/s eta 0:00:01\r\u001b[K     |██████▋                         | 215 kB 11.2 MB/s eta 0:00:01\r\u001b[K     |███████                         | 225 kB 11.2 MB/s eta 0:00:01\r\u001b[K     |███████▏                        | 235 kB 11.2 MB/s eta 0:00:01\r\u001b[K     |███████▌                        | 245 kB 11.2 MB/s eta 0:00:01\r\u001b[K     |███████▉                        | 256 kB 11.2 MB/s eta 0:00:01\r\u001b[K     |████████▏                       | 266 kB 11.2 MB/s eta 0:00:01\r\u001b[K     |████████▌                       | 276 kB 11.2 MB/s eta 0:00:01\r\u001b[K     |████████▉                       | 286 kB 11.2 MB/s eta 0:00:01\r\u001b[K     |█████████                       | 296 kB 11.2 MB/s eta 0:00:01\r\u001b[K     |█████████▍                      | 307 kB 11.2 MB/s eta 0:00:01\r\u001b[K     |█████████▊                      | 317 kB 11.2 MB/s eta 0:00:01\r\u001b[K     |██████████                      | 327 kB 11.2 MB/s eta 0:00:01\r\u001b[K     |██████████▍                     | 337 kB 11.2 MB/s eta 0:00:01\r\u001b[K     |██████████▊                     | 348 kB 11.2 MB/s eta 0:00:01\r\u001b[K     |███████████                     | 358 kB 11.2 MB/s eta 0:00:01\r\u001b[K     |███████████▎                    | 368 kB 11.2 MB/s eta 0:00:01\r\u001b[K     |███████████▋                    | 378 kB 11.2 MB/s eta 0:00:01\r\u001b[K     |████████████                    | 389 kB 11.2 MB/s eta 0:00:01\r\u001b[K     |████████████▎                   | 399 kB 11.2 MB/s eta 0:00:01\r\u001b[K     |████████████▋                   | 409 kB 11.2 MB/s eta 0:00:01\r\u001b[K     |████████████▉                   | 419 kB 11.2 MB/s eta 0:00:01\r\u001b[K     |█████████████▏                  | 430 kB 11.2 MB/s eta 0:00:01\r\u001b[K     |█████████████▌                  | 440 kB 11.2 MB/s eta 0:00:01\r\u001b[K     |█████████████▉                  | 450 kB 11.2 MB/s eta 0:00:01\r\u001b[K     |██████████████▏                 | 460 kB 11.2 MB/s eta 0:00:01\r\u001b[K     |██████████████▍                 | 471 kB 11.2 MB/s eta 0:00:01\r\u001b[K     |██████████████▊                 | 481 kB 11.2 MB/s eta 0:00:01\r\u001b[K     |███████████████                 | 491 kB 11.2 MB/s eta 0:00:01\r\u001b[K     |███████████████▍                | 501 kB 11.2 MB/s eta 0:00:01\r\u001b[K     |███████████████▊                | 512 kB 11.2 MB/s eta 0:00:01\r\u001b[K     |████████████████                | 522 kB 11.2 MB/s eta 0:00:01\r\u001b[K     |████████████████▎               | 532 kB 11.2 MB/s eta 0:00:01\r\u001b[K     |████████████████▋               | 542 kB 11.2 MB/s eta 0:00:01\r\u001b[K     |█████████████████               | 552 kB 11.2 MB/s eta 0:00:01\r\u001b[K     |█████████████████▎              | 563 kB 11.2 MB/s eta 0:00:01\r\u001b[K     |█████████████████▋              | 573 kB 11.2 MB/s eta 0:00:01\r\u001b[K     |██████████████████              | 583 kB 11.2 MB/s eta 0:00:01\r\u001b[K     |██████████████████▏             | 593 kB 11.2 MB/s eta 0:00:01\r\u001b[K     |██████████████████▌             | 604 kB 11.2 MB/s eta 0:00:01\r\u001b[K     |██████████████████▉             | 614 kB 11.2 MB/s eta 0:00:01\r\u001b[K     |███████████████████▏            | 624 kB 11.2 MB/s eta 0:00:01\r\u001b[K     |███████████████████▌            | 634 kB 11.2 MB/s eta 0:00:01\r\u001b[K     |███████████████████▉            | 645 kB 11.2 MB/s eta 0:00:01\r\u001b[K     |████████████████████            | 655 kB 11.2 MB/s eta 0:00:01\r\u001b[K     |████████████████████▍           | 665 kB 11.2 MB/s eta 0:00:01\r\u001b[K     |████████████████████▊           | 675 kB 11.2 MB/s eta 0:00:01\r\u001b[K     |█████████████████████           | 686 kB 11.2 MB/s eta 0:00:01\r\u001b[K     |█████████████████████▍          | 696 kB 11.2 MB/s eta 0:00:01\r\u001b[K     |█████████████████████▋          | 706 kB 11.2 MB/s eta 0:00:01\r\u001b[K     |██████████████████████          | 716 kB 11.2 MB/s eta 0:00:01\r\u001b[K     |██████████████████████▎         | 727 kB 11.2 MB/s eta 0:00:01\r\u001b[K     |██████████████████████▋         | 737 kB 11.2 MB/s eta 0:00:01\r\u001b[K     |███████████████████████         | 747 kB 11.2 MB/s eta 0:00:01\r\u001b[K     |███████████████████████▎        | 757 kB 11.2 MB/s eta 0:00:01\r\u001b[K     |███████████████████████▌        | 768 kB 11.2 MB/s eta 0:00:01\r\u001b[K     |███████████████████████▉        | 778 kB 11.2 MB/s eta 0:00:01\r\u001b[K     |████████████████████████▏       | 788 kB 11.2 MB/s eta 0:00:01\r\u001b[K     |████████████████████████▌       | 798 kB 11.2 MB/s eta 0:00:01\r\u001b[K     |████████████████████████▉       | 808 kB 11.2 MB/s eta 0:00:01\r\u001b[K     |█████████████████████████▏      | 819 kB 11.2 MB/s eta 0:00:01\r\u001b[K     |█████████████████████████▍      | 829 kB 11.2 MB/s eta 0:00:01\r\u001b[K     |█████████████████████████▊      | 839 kB 11.2 MB/s eta 0:00:01\r\u001b[K     |██████████████████████████      | 849 kB 11.2 MB/s eta 0:00:01\r\u001b[K     |██████████████████████████▍     | 860 kB 11.2 MB/s eta 0:00:01\r\u001b[K     |██████████████████████████▊     | 870 kB 11.2 MB/s eta 0:00:01\r\u001b[K     |███████████████████████████     | 880 kB 11.2 MB/s eta 0:00:01\r\u001b[K     |███████████████████████████▎    | 890 kB 11.2 MB/s eta 0:00:01\r\u001b[K     |███████████████████████████▋    | 901 kB 11.2 MB/s eta 0:00:01\r\u001b[K     |████████████████████████████    | 911 kB 11.2 MB/s eta 0:00:01\r\u001b[K     |████████████████████████████▎   | 921 kB 11.2 MB/s eta 0:00:01\r\u001b[K     |████████████████████████████▋   | 931 kB 11.2 MB/s eta 0:00:01\r\u001b[K     |████████████████████████████▉   | 942 kB 11.2 MB/s eta 0:00:01\r\u001b[K     |█████████████████████████████▏  | 952 kB 11.2 MB/s eta 0:00:01\r\u001b[K     |█████████████████████████████▌  | 962 kB 11.2 MB/s eta 0:00:01\r\u001b[K     |█████████████████████████████▉  | 972 kB 11.2 MB/s eta 0:00:01\r\u001b[K     |██████████████████████████████▏ | 983 kB 11.2 MB/s eta 0:00:01\r\u001b[K     |██████████████████████████████▌ | 993 kB 11.2 MB/s eta 0:00:01\r\u001b[K     |██████████████████████████████▊ | 1.0 MB 11.2 MB/s eta 0:00:01\r\u001b[K     |███████████████████████████████ | 1.0 MB 11.2 MB/s eta 0:00:01\r\u001b[K     |███████████████████████████████▍| 1.0 MB 11.2 MB/s eta 0:00:01\r\u001b[K     |███████████████████████████████▊| 1.0 MB 11.2 MB/s eta 0:00:01\r\u001b[K     |████████████████████████████████| 1.0 MB 11.2 MB/s \n",
            "\u001b[?25hRequirement already satisfied: setuptools in /usr/local/lib/python3.7/dist-packages (from chainer) (57.4.0)\n",
            "Requirement already satisfied: typing_extensions in /usr/local/lib/python3.7/dist-packages (from chainer) (3.6.6)\n",
            "Requirement already satisfied: filelock in /usr/local/lib/python3.7/dist-packages (from chainer) (3.3.0)\n",
            "Requirement already satisfied: numpy>=1.9.0 in /usr/local/lib/python3.7/dist-packages (from chainer) (1.19.5)\n",
            "Requirement already satisfied: protobuf>=3.0.0 in /usr/local/lib/python3.7/dist-packages (from chainer) (3.7.1)\n",
            "Requirement already satisfied: six>=1.9.0 in /usr/local/lib/python3.7/dist-packages (from chainer) (1.15.0)\n",
            "Building wheels for collected packages: chainer\n",
            "  Building wheel for chainer (setup.py) ... \u001b[?25l\u001b[?25hdone\n",
            "  Created wheel for chainer: filename=chainer-7.8.0-py3-none-any.whl size=967734 sha256=a08af6975b4e21ac08694a506022283b6913df0b61d3724b15dfb67d1f77351b\n",
            "  Stored in directory: /root/.cache/pip/wheels/8d/45/4c/c961846626d4db2511e4acbd5056eefb2aeedcec8208a3ca42\n",
            "Successfully built chainer\n",
            "Installing collected packages: chainer\n",
            "Successfully installed chainer-7.8.0\n"
          ]
        }
      ]
    },
    {
      "cell_type": "code",
      "metadata": {
        "colab": {
          "base_uri": "https://localhost:8080/"
        },
        "id": "TtNx6QUVJL1R",
        "outputId": "72f00cc7-2243-40df-df5e-4c877d39f937"
      },
      "source": [
        "!python run_gp_gan.py --src_image images/test_images/src.jpg --dst_image images/test_images/dst.jpg --mask_image images/test_images/mask.png --blended_image images/test_images/result.png"
      ],
      "execution_count": 9,
      "outputs": [
        {
          "output_type": "stream",
          "name": "stdout",
          "text": [
            "/usr/local/lib/python3.7/dist-packages/chainer/_environment_check.py:75: UserWarning: \n",
            "--------------------------------------------------------------------------------\n",
            "CuPy (cupy-cuda111) version 9.4.0 may not be compatible with this version of Chainer.\n",
            "Please consider installing the supported version by running:\n",
            "  $ pip install 'cupy-cuda111>=7.7.0,<8.0.0'\n",
            "\n",
            "See the following page for more details:\n",
            "  https://docs.cupy.dev/en/latest/install.html\n",
            "--------------------------------------------------------------------------------\n",
            "\n",
            "  requirement=requirement, help=help))\n",
            "Input arguments:\n",
            "\tnef: 64\n",
            "\tngf: 64\n",
            "\tnc: 3\n",
            "\tnBottleneck: 4000\n",
            "\tndf: 64\n",
            "\timage_size: 64\n",
            "\tcolor_weight: 1\n",
            "\tsigma: 0.5\n",
            "\tgradient_kernel: normal\n",
            "\tsmooth_sigma: 1\n",
            "\tsupervised: True\n",
            "\tnz: 100\n",
            "\tn_iteration: 1000\n",
            "\tgpu: 0\n",
            "\tg_path: models/blending_gan.npz\n",
            "\tunsupervised_path: models/unsupervised_blending_gan.npz\n",
            "\tlist_path: \n",
            "\tresult_folder: blending_result\n",
            "\tsrc_image: images/test_images/src.jpg\n",
            "\tdst_image: images/test_images/dst.jpg\n",
            "\tmask_image: images/test_images/mask.png\n",
            "\tblended_image: images/test_images/result.png\n",
            "\n",
            "Load pretrained Blending GAN model from models/blending_gan.npz ...\n",
            "Traceback (most recent call last):\n",
            "  File \"run_gp_gan.py\", line 115, in <module>\n",
            "    main()\n",
            "  File \"run_gp_gan.py\", line 64, in main\n",
            "    serializers.load_npz(args.g_path, G)\n",
            "  File \"/usr/local/lib/python3.7/dist-packages/chainer/serializers/npz.py\", line 240, in load_npz\n",
            "    with numpy.load(file, **_allow_pickle_kwargs) as f:\n",
            "  File \"/usr/local/lib/python3.7/dist-packages/numpy/lib/npyio.py\", line 416, in load\n",
            "    fid = stack.enter_context(open(os_fspath(file), \"rb\"))\n",
            "FileNotFoundError: [Errno 2] No such file or directory: 'models/blending_gan.npz'\n"
          ]
        }
      ]
    }
  ]
}