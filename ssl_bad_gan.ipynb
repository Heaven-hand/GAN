{
  "nbformat": 4,
  "nbformat_minor": 0,
  "metadata": {
    "colab": {
      "name": "ssl_bad_gan.ipynb",
      "provenance": [],
      "authorship_tag": "ABX9TyNmVJsg3j55Oer84LwBaUf7",
      "include_colab_link": true
    },
    "kernelspec": {
      "name": "python3",
      "display_name": "Python 3"
    },
    "language_info": {
      "name": "python"
    }
  },
  "cells": [
    {
      "cell_type": "markdown",
      "metadata": {
        "id": "view-in-github",
        "colab_type": "text"
      },
      "source": [
        "<a href=\"https://colab.research.google.com/github/Heaven-hand/GAN/blob/main/ssl_bad_gan.ipynb\" target=\"_parent\"><img src=\"https://colab.research.google.com/assets/colab-badge.svg\" alt=\"Open In Colab\"/></a>"
      ]
    },
    {
      "cell_type": "code",
      "metadata": {
        "colab": {
          "base_uri": "https://localhost:8080/"
        },
        "id": "UPY0iXKSFBMx",
        "outputId": "342fcef7-5474-423a-8c70-9c2aff8dd953"
      },
      "source": [
        "!mkdir model\n",
        "!cd model\n",
        "!wget http://kimi.ml.cmu.edu/mnist.True.3.best.pixel"
      ],
      "execution_count": 1,
      "outputs": [
        {
          "output_type": "stream",
          "name": "stdout",
          "text": [
            "--2021-10-16 12:30:04--  http://kimi.ml.cmu.edu/mnist.True.3.best.pixel\n",
            "Resolving kimi.ml.cmu.edu (kimi.ml.cmu.edu)... failed: Name or service not known.\n",
            "wget: unable to resolve host address ‘kimi.ml.cmu.edu’\n"
          ]
        }
      ]
    },
    {
      "cell_type": "code",
      "metadata": {
        "colab": {
          "base_uri": "https://localhost:8080/"
        },
        "id": "dVkkcs5CFMCt",
        "outputId": "6a50421c-d553-4228-c2af-02aaaef460a6"
      },
      "source": [
        "!git clone https://github.com/kimiyoung/ssl_bad_gan.git"
      ],
      "execution_count": 2,
      "outputs": [
        {
          "output_type": "stream",
          "name": "stdout",
          "text": [
            "Cloning into 'ssl_bad_gan'...\n",
            "remote: Enumerating objects: 23, done.\u001b[K\n",
            "remote: Total 23 (delta 0), reused 0 (delta 0), pack-reused 23\u001b[K\n",
            "Unpacking objects: 100% (23/23), done.\n"
          ]
        }
      ]
    },
    {
      "cell_type": "code",
      "metadata": {
        "colab": {
          "base_uri": "https://localhost:8080/"
        },
        "id": "KvVhHgvxFgoP",
        "outputId": "4264ca8e-54a2-445c-80de-fd89fcb85d06"
      },
      "source": [
        "cd ssl_bad_gan/"
      ],
      "execution_count": 6,
      "outputs": [
        {
          "output_type": "stream",
          "name": "stdout",
          "text": [
            "/content/ssl_bad_gan\n"
          ]
        }
      ]
    },
    {
      "cell_type": "code",
      "metadata": {
        "colab": {
          "base_uri": "https://localhost:8080/"
        },
        "id": "adluNfymFuLg",
        "outputId": "4f5fcc0d-918d-4504-d3c5-f7239179ad5e"
      },
      "source": [
        "!python mnist_trainer.py"
      ],
      "execution_count": 8,
      "outputs": [
        {
          "output_type": "stream",
          "name": "stdout",
          "text": [
            "  File \"mnist_trainer.py\", line 63\n",
            "    print 'ploss_th', self.ploss_th\n",
            "                   ^\n",
            "SyntaxError: Missing parentheses in call to 'print'. Did you mean print('ploss_th', self.ploss_th)?\n"
          ]
        }
      ]
    },
    {
      "cell_type": "code",
      "metadata": {
        "colab": {
          "base_uri": "https://localhost:8080/"
        },
        "id": "TslBfIloF6tZ",
        "outputId": "fd77fa33-4479-4bc7-cac8-44d209332dad"
      },
      "source": [
        "!python svhn_trainer.py"
      ],
      "execution_count": 9,
      "outputs": [
        {
          "output_type": "stream",
          "name": "stdout",
          "text": [
            "Traceback (most recent call last):\n",
            "  File \"svhn_trainer.py\", line 9, in <module>\n",
            "    import data\n",
            "  File \"/content/ssl_bad_gan/data.py\", line 77\n",
            "    print 'labeled size', labeled_indices.shape[0], 'unlabeled size', unlabeled_indices.shape[0]\n",
            "                       ^\n",
            "SyntaxError: Missing parentheses in call to 'print'. Did you mean print('labeled size', labeled_indices.shape[0], 'unlabeled size', unlabeled_indices.shape[0])?\n"
          ]
        }
      ]
    },
    {
      "cell_type": "code",
      "metadata": {
        "colab": {
          "base_uri": "https://localhost:8080/"
        },
        "id": "9fybaUIAGfEG",
        "outputId": "7cc6a1c1-3708-4044-b02b-3df080844187"
      },
      "source": [
        "!python cifar_trainer.py"
      ],
      "execution_count": 10,
      "outputs": [
        {
          "output_type": "stream",
          "name": "stdout",
          "text": [
            "  File \"cifar_trainer.py\", line 57\n",
            "    print self.dis\n",
            "             ^\n",
            "SyntaxError: Missing parentheses in call to 'print'. Did you mean print(self.dis)?\n"
          ]
        }
      ]
    }
  ]
}